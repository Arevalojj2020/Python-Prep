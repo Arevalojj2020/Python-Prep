{
 "cells": [
  {
   "cell_type": "code",
   "execution_count": 6,
   "metadata": {},
   "outputs": [
    {
     "name": "stdout",
     "output_type": "stream",
     "text": [
      "['Medellín', 'Caracas', 'Paris', 'Londres', 'Berlín']\n"
     ]
    }
   ],
   "source": [
    "#1\n",
    "ciudades_del_mundo = [\"Medellín\",\"Caracas\",\"Paris\",\"Londres\",\"Berlín\" ]\n",
    "print(ciudades_del_mundo)"
   ]
  },
  {
   "cell_type": "code",
   "execution_count": 7,
   "metadata": {},
   "outputs": [
    {
     "name": "stdout",
     "output_type": "stream",
     "text": [
      "Caracas\n"
     ]
    }
   ],
   "source": [
    "#2\n",
    "print(ciudades_del_mundo[1])"
   ]
  },
  {
   "cell_type": "code",
   "execution_count": 8,
   "metadata": {},
   "outputs": [
    {
     "name": "stdout",
     "output_type": "stream",
     "text": [
      "['Caracas', 'Paris', 'Londres']\n"
     ]
    }
   ],
   "source": [
    "print(ciudades_del_mundo[1:4])"
   ]
  },
  {
   "cell_type": "code",
   "execution_count": 9,
   "metadata": {},
   "outputs": [
    {
     "name": "stdout",
     "output_type": "stream",
     "text": [
      "['Paris', 'Londres', 'Berlín']\n"
     ]
    }
   ],
   "source": [
    "print(ciudades_del_mundo[2:])"
   ]
  },
  {
   "cell_type": "code",
   "execution_count": 10,
   "metadata": {},
   "outputs": [
    {
     "name": "stdout",
     "output_type": "stream",
     "text": [
      "['Medellín', 'Caracas', 'Paris', 'Londres']\n"
     ]
    }
   ],
   "source": [
    "print(ciudades_del_mundo[:4])"
   ]
  },
  {
   "cell_type": "code",
   "execution_count": 11,
   "metadata": {},
   "outputs": [
    {
     "name": "stdout",
     "output_type": "stream",
     "text": [
      "['Medellín', 'Caracas', 'Paris', 'Londres', 'Berlín', 'Tokio', 'Medellín']\n"
     ]
    }
   ],
   "source": [
    "ciudades_del_mundo.append(\"Tokio\")\n",
    "ciudades_del_mundo.append(\"Medellín\")\n",
    "print(ciudades_del_mundo)\n",
    "\n",
    "#No se genera ningún tipo de errro"
   ]
  },
  {
   "cell_type": "code",
   "execution_count": 12,
   "metadata": {},
   "outputs": [
    {
     "name": "stdout",
     "output_type": "stream",
     "text": [
      "['Medellín', 'Caracas', 'Paris', 'Moscú', 'Londres', 'Berlín', 'Tokio', 'Medellín']\n"
     ]
    }
   ],
   "source": [
    "ciudades_del_mundo.insert(3,\"Moscú\")\n",
    "print(ciudades_del_mundo)"
   ]
  },
  {
   "cell_type": "code",
   "execution_count": 13,
   "metadata": {},
   "outputs": [
    {
     "name": "stdout",
     "output_type": "stream",
     "text": [
      "['Medellín', 'Caracas', 'Paris', 'Moscú', 'Londres', 'Berlín', 'Tokio', 'Medellín', 'Colombia', 'Rusia', 'Alemania']\n"
     ]
    }
   ],
   "source": [
    "paises = [\"Colombia\",\"Rusia\",\"Alemania\"]\n",
    "ciudades_del_mundo.extend(paises)\n",
    "print(ciudades_del_mundo)"
   ]
  },
  {
   "cell_type": "code",
   "execution_count": 14,
   "metadata": {},
   "outputs": [
    {
     "data": {
      "text/plain": [
       "0"
      ]
     },
     "execution_count": 14,
     "metadata": {},
     "output_type": "execute_result"
    }
   ],
   "source": [
    "ciudades_del_mundo.index(\"Medellín\")\n",
    "#La particularidad es que se encuentra el indice de la primera posición del elemento"
   ]
  },
  {
   "cell_type": "code",
   "execution_count": 16,
   "metadata": {},
   "outputs": [
    {
     "ename": "ValueError",
     "evalue": "'Pekin' is not in list",
     "output_type": "error",
     "traceback": [
      "\u001b[1;31m---------------------------------------------------------------------------\u001b[0m",
      "\u001b[1;31mValueError\u001b[0m                                Traceback (most recent call last)",
      "Cell \u001b[1;32mIn[16], line 1\u001b[0m\n\u001b[1;32m----> 1\u001b[0m ciudades_del_mundo\u001b[39m.\u001b[39;49mindex(\u001b[39m\"\u001b[39;49m\u001b[39mPekin\u001b[39;49m\u001b[39m\"\u001b[39;49m)\n\u001b[0;32m      2\u001b[0m \u001b[39m#Salta un error cuando se busca un elemento que no está en la lista\u001b[39;00m\n",
      "\u001b[1;31mValueError\u001b[0m: 'Pekin' is not in list"
     ]
    }
   ],
   "source": [
    "ciudades_del_mundo.index(\"Pekin\")\n",
    "#Salta un error cuando se busca un elemento que no está en la lista"
   ]
  },
  {
   "cell_type": "code",
   "execution_count": null,
   "metadata": {},
   "outputs": [
    {
     "name": "stdout",
     "output_type": "stream",
     "text": [
      "['Medellín', 'Paris', 'Moscú', 'Londres', 'Berlín', 'Tokio', 'Medellín', 'Colombia', 'Rusia', 'Alemania']\n"
     ]
    }
   ],
   "source": [
    "del ciudades_del_mundo[1]\n",
    "print(ciudades_del_mundo)"
   ]
  },
  {
   "cell_type": "code",
   "execution_count": 17,
   "metadata": {},
   "outputs": [
    {
     "ename": "IndexError",
     "evalue": "list assignment index out of range",
     "output_type": "error",
     "traceback": [
      "\u001b[1;31m---------------------------------------------------------------------------\u001b[0m",
      "\u001b[1;31mIndexError\u001b[0m                                Traceback (most recent call last)",
      "Cell \u001b[1;32mIn[17], line 1\u001b[0m\n\u001b[1;32m----> 1\u001b[0m \u001b[39mdel\u001b[39;00m ciudades_del_mundo[\u001b[39m12\u001b[39m]\n\u001b[0;32m      2\u001b[0m \u001b[39m#Salta error si se intenta eliminar un elemento de la lista que no existe\u001b[39;00m\n",
      "\u001b[1;31mIndexError\u001b[0m: list assignment index out of range"
     ]
    }
   ],
   "source": [
    "del ciudades_del_mundo[12]\n",
    "#Salta error si se intenta eliminar un elemento de la lista que no existe"
   ]
  },
  {
   "cell_type": "code",
   "execution_count": null,
   "metadata": {},
   "outputs": [
    {
     "name": "stdout",
     "output_type": "stream",
     "text": [
      "Alemania\n"
     ]
    }
   ],
   "source": [
    "var = ciudades_del_mundo.pop()\n",
    "print(var)"
   ]
  },
  {
   "cell_type": "code",
   "execution_count": 18,
   "metadata": {},
   "outputs": [
    {
     "name": "stdout",
     "output_type": "stream",
     "text": [
      "['Medellín', 'Caracas', 'Paris', 'Moscú', 'Londres', 'Berlín', 'Tokio', 'Medellín', 'Colombia', 'Rusia', 'Alemania', 'Medellín', 'Caracas', 'Paris', 'Moscú', 'Londres', 'Berlín', 'Tokio', 'Medellín', 'Colombia', 'Rusia', 'Alemania', 'Medellín', 'Caracas', 'Paris', 'Moscú', 'Londres', 'Berlín', 'Tokio', 'Medellín', 'Colombia', 'Rusia', 'Alemania', 'Medellín', 'Caracas', 'Paris', 'Moscú', 'Londres', 'Berlín', 'Tokio', 'Medellín', 'Colombia', 'Rusia', 'Alemania']\n"
     ]
    }
   ],
   "source": [
    "#15\n",
    "print(ciudades_del_mundo * 4)"
   ]
  },
  {
   "cell_type": "code",
   "execution_count": 19,
   "metadata": {},
   "outputs": [
    {
     "name": "stdout",
     "output_type": "stream",
     "text": [
      "(1, 2, 3, 4, 5, 6, 7, 8, 9, 10, 11, 12, 13, 14, 15, 16, 17, 18, 19, 20)\n"
     ]
    }
   ],
   "source": [
    "#16\n",
    "tupla = (1,2,3,4,5,6,7,8,9,10,11,12,13,14,15,16,17,18,19,20)\n",
    "print(tupla)"
   ]
  },
  {
   "cell_type": "code",
   "execution_count": 20,
   "metadata": {},
   "outputs": [
    {
     "name": "stdout",
     "output_type": "stream",
     "text": [
      "(11, 12, 13, 14, 15, 16)\n"
     ]
    }
   ],
   "source": [
    "#17\n",
    "print(tupla[10:16])"
   ]
  },
  {
   "cell_type": "code",
   "execution_count": 22,
   "metadata": {},
   "outputs": [
    {
     "name": "stdout",
     "output_type": "stream",
     "text": [
      "True\n",
      "False\n"
     ]
    }
   ],
   "source": [
    "\n",
    "#18\n",
    "print(20 in tupla)\n",
    "print(30 in tupla)"
   ]
  },
  {
   "cell_type": "code",
   "execution_count": 23,
   "metadata": {},
   "outputs": [
    {
     "name": "stdout",
     "output_type": "stream",
     "text": [
      "True\n"
     ]
    }
   ],
   "source": [
    "#19\n",
    "verificacion = \"Paris\" in ciudades_del_mundo\n",
    "print(verificacion)"
   ]
  },
  {
   "cell_type": "code",
   "execution_count": 27,
   "metadata": {},
   "outputs": [
    {
     "name": "stdout",
     "output_type": "stream",
     "text": [
      "2\n",
      "1\n"
     ]
    }
   ],
   "source": [
    "#20\n",
    "aux_1 = ciudades_del_mundo.count(\"Medellín\")\n",
    "aux_2 = tupla.count(15)\n",
    "print(aux_1)\n",
    "print(aux_2)"
   ]
  },
  {
   "cell_type": "code",
   "execution_count": 29,
   "metadata": {},
   "outputs": [
    {
     "name": "stdout",
     "output_type": "stream",
     "text": [
      "[1, 2, 3, 4, 5, 6, 7, 8, 9, 10, 11, 12, 13, 14, 15, 16, 17, 18, 19, 20]\n",
      "('Medellín', 'Caracas', 'Paris', 'Moscú', 'Londres', 'Berlín', 'Tokio', 'Medellín', 'Colombia', 'Rusia', 'Alemania')\n"
     ]
    }
   ],
   "source": [
    "#21\n",
    "new_lista = list(tupla)\n",
    "print(new_lista)\n",
    "new_tupla = tuple(ciudades_del_mundo)\n",
    "print(new_tupla)"
   ]
  },
  {
   "cell_type": "code",
   "execution_count": 32,
   "metadata": {},
   "outputs": [
    {
     "name": "stdout",
     "output_type": "stream",
     "text": [
      "Medellín\n",
      "Caracas\n",
      "Paris\n"
     ]
    }
   ],
   "source": [
    "#22\n",
    "ciudad_1 , ciudad_2, ciudad_3 = new_tupla[0:3]\n",
    "print(ciudad_1)\n",
    "print(ciudad_2)\n",
    "print(ciudad_3)"
   ]
  },
  {
   "cell_type": "code",
   "execution_count": 33,
   "metadata": {},
   "outputs": [
    {
     "name": "stdout",
     "output_type": "stream",
     "text": [
      "{'Ciudades': ['Medellín', 'Caracas', 'Paris', 'Moscú', 'Londres', 'Berlín', 'Tokio', 'Medellín', 'Colombia', 'Rusia', 'Alemania'], 'Pais': [], 'Continente': []}\n"
     ]
    }
   ],
   "source": [
    "#23\n",
    "mi_diccionario = {\"Ciudades\" : ciudades_del_mundo,\n",
    "                  \"Pais\" : [],\n",
    "                  \"Continente\" : []}\n",
    "print(mi_diccionario)"
   ]
  },
  {
   "cell_type": "code",
   "execution_count": 35,
   "metadata": {},
   "outputs": [
    {
     "name": "stdout",
     "output_type": "stream",
     "text": [
      "dict_keys(['Ciudades', 'Pais', 'Continente'])\n"
     ]
    }
   ],
   "source": [
    "#24\n",
    "print(mi_diccionario.keys())"
   ]
  },
  {
   "cell_type": "code",
   "execution_count": 36,
   "metadata": {},
   "outputs": [
    {
     "name": "stdout",
     "output_type": "stream",
     "text": [
      "['Medellín', 'Caracas', 'Paris', 'Moscú', 'Londres', 'Berlín', 'Tokio', 'Medellín', 'Colombia', 'Rusia', 'Alemania']\n"
     ]
    }
   ],
   "source": [
    "#25\n",
    "print(mi_diccionario[\"Ciudades\"])"
   ]
  }
 ],
 "metadata": {
  "kernelspec": {
   "display_name": "Python 3",
   "language": "python",
   "name": "python3"
  },
  "language_info": {
   "codemirror_mode": {
    "name": "ipython",
    "version": 3
   },
   "file_extension": ".py",
   "mimetype": "text/x-python",
   "name": "python",
   "nbconvert_exporter": "python",
   "pygments_lexer": "ipython3",
   "version": "3.10.4"
  },
  "orig_nbformat": 4,
  "vscode": {
   "interpreter": {
    "hash": "c63d8c7d738c2960218a10995aedf0a7f67a49a231e71037adf0440953cdb45b"
   }
  }
 },
 "nbformat": 4,
 "nbformat_minor": 2
}
