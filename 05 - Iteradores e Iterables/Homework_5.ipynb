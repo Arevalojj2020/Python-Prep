{
 "cells": [
  {
   "cell_type": "code",
   "execution_count": 47,
   "metadata": {},
   "outputs": [
    {
     "name": "stdout",
     "output_type": "stream",
     "text": [
      "[-15, -14, -13, -12, -11, -10, -9, -8, -7, -6, -5, -4, -3, -2, -1]\n"
     ]
    }
   ],
   "source": [
    "#1\n",
    "lista_1 = []\n",
    "n = -1\n",
    "while n >= -15:\n",
    "    lista_1.append(n)\n",
    "    n -= 1\n",
    "lista_1.sort()\n",
    "print(lista_1)\n",
    "\n"
   ]
  },
  {
   "cell_type": "code",
   "execution_count": 48,
   "metadata": {},
   "outputs": [
    {
     "name": "stdout",
     "output_type": "stream",
     "text": [
      "-14\n",
      "-12\n",
      "-10\n",
      "-8\n",
      "-6\n",
      "-4\n",
      "-2\n"
     ]
    }
   ],
   "source": [
    "#2\n",
    "lista_1 = []\n",
    "n = -1\n",
    "while n >= -15:\n",
    "    lista_1.append(n)\n",
    "    n -= 1\n",
    "lista_1.sort()\n",
    "i = 0\n",
    "while i < len(lista_1):\n",
    "    elemento = lista_1[i]\n",
    "    if elemento % 2 == 0:\n",
    "        print(elemento)\n",
    "    i +=1  \n",
    "\n"
   ]
  },
  {
   "cell_type": "code",
   "execution_count": 51,
   "metadata": {},
   "outputs": [
    {
     "name": "stdout",
     "output_type": "stream",
     "text": [
      "-14\n",
      "-12\n",
      "-10\n",
      "-8\n",
      "-6\n",
      "-4\n",
      "-2\n"
     ]
    }
   ],
   "source": [
    "#3\n",
    "lista_1 = []\n",
    "n = -1\n",
    "while n >= -15:\n",
    "    lista_1.append(n)\n",
    "    n -= 1\n",
    "lista_1.sort()\n",
    "for i in lista_1:\n",
    "    if (i % 2 == 0):\n",
    "        print(i)\n"
   ]
  },
  {
   "cell_type": "code",
   "execution_count": 53,
   "metadata": {},
   "outputs": [
    {
     "name": "stdout",
     "output_type": "stream",
     "text": [
      "-15\n",
      "-14\n",
      "-13\n"
     ]
    }
   ],
   "source": [
    "#4\n",
    "lista_1 = []\n",
    "n = -1\n",
    "while n >= -15:\n",
    "    lista_1.append(n)\n",
    "    n -= 1\n",
    "lista_1.sort()\n",
    "for i in lista_1[:3]:\n",
    "    print(i)\n",
    "    "
   ]
  },
  {
   "cell_type": "code",
   "execution_count": 55,
   "metadata": {},
   "outputs": [
    {
     "name": "stdout",
     "output_type": "stream",
     "text": [
      "0 -15\n",
      "1 -14\n",
      "2 -13\n",
      "3 -12\n",
      "4 -11\n",
      "5 -10\n",
      "6 -9\n",
      "7 -8\n",
      "8 -7\n",
      "9 -6\n",
      "10 -5\n",
      "11 -4\n",
      "12 -3\n",
      "13 -2\n",
      "14 -1\n"
     ]
    }
   ],
   "source": [
    "#5\n",
    "lista_1 = []\n",
    "n = -1\n",
    "while n >= -15:\n",
    "    lista_1.append(n)\n",
    "    n -= 1\n",
    "lista_1.sort()\n",
    "for i, c in enumerate(lista_1):\n",
    "    print(i, c)"
   ]
  },
  {
   "cell_type": "code",
   "execution_count": 68,
   "metadata": {},
   "outputs": [
    {
     "name": "stdout",
     "output_type": "stream",
     "text": [
      "[1, 2, 3, 4, 5, 6, 7, 8, 9, 10, 11, 12, 13, 14, 15, 16, 17, 18, 19, 20]\n"
     ]
    }
   ],
   "source": [
    "#6\n",
    "lista_2 = [1,2,5,7,8,10,13,14,15,17,20]\n",
    "i = 1\n",
    "while i < len(lista_2):\n",
    "    aux = lista_2[i]\n",
    "    aux_2 = (lista_2[i -1] + 1)\n",
    "    if aux == aux_2:\n",
    "        pass\n",
    "    else:\n",
    "        lista_2.insert(i, aux_2)\n",
    "    i += 1\n",
    "print(lista_2)"
   ]
  },
  {
   "cell_type": "code",
   "execution_count": 79,
   "metadata": {},
   "outputs": [
    {
     "name": "stdout",
     "output_type": "stream",
     "text": [
      "[0, 1, 1, 2, 3, 5, 8, 13, 21, 34, 55, 89, 144, 233, 377, 610, 987, 1597, 2584, 4181, 6765, 10946, 17711, 28657, 46368, 75025, 121393, 196418, 317811, 514229]\n"
     ]
    }
   ],
   "source": [
    "#7\n",
    "a = 0\n",
    "b = 1\n",
    "fibo = [a,b]\n",
    "i = 1\n",
    "while i < 29:\n",
    "    aux = fibo[i] + fibo[i -1]\n",
    "    fibo.append(aux)\n",
    "    i += 1\n",
    "print(fibo)"
   ]
  },
  {
   "cell_type": "code",
   "execution_count": 82,
   "metadata": {},
   "outputs": [
    {
     "name": "stdout",
     "output_type": "stream",
     "text": [
      "1346268\n"
     ]
    }
   ],
   "source": [
    "#8\n",
    "a = 0\n",
    "b = 1\n",
    "fibo = [a,b]\n",
    "i = 1\n",
    "while i < 29:\n",
    "    aux = fibo[i] + fibo[i -1]\n",
    "    fibo.append(aux)\n",
    "    i += 1\n",
    "print(sum(fibo))"
   ]
  },
  {
   "cell_type": "code",
   "execution_count": 91,
   "metadata": {},
   "outputs": [
    {
     "name": "stdout",
     "output_type": "stream",
     "text": [
      "1.6180339887543225\n",
      "1.6180339887802426\n",
      "1.618033988957902\n",
      "1.6180339901755971\n",
      "1.6180339985218033\n"
     ]
    }
   ],
   "source": [
    "#9\n",
    "a = 0\n",
    "b = 1\n",
    "fibo = [a,b]\n",
    "i = 1\n",
    "while i < 29:\n",
    "    aux = fibo[i] + fibo[i -1]\n",
    "    fibo.append(aux)\n",
    "    i += 1\n",
    "print(fibo[-1]/fibo[-2])\n",
    "print(fibo[-3]/fibo[-4])\n",
    "print(fibo[-5]/fibo[-6])\n",
    "print(fibo[-7]/fibo[-8])\n",
    "print(fibo[-9]/fibo[-10])"
   ]
  },
  {
   "cell_type": "code",
   "execution_count": 97,
   "metadata": {},
   "outputs": [
    {
     "name": "stdout",
     "output_type": "stream",
     "text": [
      "7\n",
      "21\n",
      "39\n",
      "60\n",
      "67\n"
     ]
    }
   ],
   "source": [
    "#10\n",
    "cadena = 'Hola Mundo. Esto es una practica del lenguaje de programación Python'\n",
    "for i, c in enumerate(cadena):\n",
    "    if (c == \"n\"):\n",
    "        print(i)"
   ]
  },
  {
   "cell_type": "code",
   "execution_count": 98,
   "metadata": {},
   "outputs": [
    {
     "name": "stdout",
     "output_type": "stream",
     "text": [
      "uno\n",
      "dos\n",
      "tres\n",
      "cuatro\n",
      "cinco\n"
     ]
    }
   ],
   "source": [
    "#11\n",
    "dicc_1 = {  \"uno\":1,\n",
    "            \"dos\":2,\n",
    "            \"tres\":3,\n",
    "            \"cuatro\":4,\n",
    "            \"cinco\":5}\n",
    "for i in dicc_1:\n",
    "    print(i)"
   ]
  },
  {
   "cell_type": "code",
   "execution_count": 104,
   "metadata": {},
   "outputs": [
    {
     "name": "stdout",
     "output_type": "stream",
     "text": [
      "H\n",
      "o\n",
      "l\n",
      "a\n",
      " \n",
      "M\n",
      "u\n",
      "n\n",
      "d\n",
      "o\n",
      ".\n",
      " \n",
      "E\n",
      "s\n",
      "t\n",
      "o\n",
      " \n",
      "e\n",
      "s\n",
      " \n",
      "u\n",
      "n\n",
      "a\n",
      " \n",
      "p\n",
      "r\n",
      "a\n",
      "c\n",
      "t\n",
      "i\n",
      "c\n",
      "a\n",
      " \n",
      "d\n",
      "e\n",
      "l\n",
      " \n",
      "l\n",
      "e\n",
      "n\n",
      "g\n",
      "u\n",
      "a\n",
      "j\n",
      "e\n",
      " \n",
      "d\n",
      "e\n",
      " \n",
      "p\n",
      "r\n",
      "o\n",
      "g\n",
      "r\n",
      "a\n",
      "m\n",
      "a\n",
      "c\n",
      "i\n",
      "ó\n",
      "n\n",
      " \n",
      "P\n",
      "y\n",
      "t\n",
      "h\n",
      "o\n",
      "n\n"
     ]
    }
   ],
   "source": [
    "#12\n",
    "cadena = 'Hola Mundo. Esto es una practica del lenguaje de programación Python'\n",
    "aux = list(cadena)\n",
    "for i in aux:\n",
    "    print(i)"
   ]
  },
  {
   "cell_type": "code",
   "execution_count": 110,
   "metadata": {},
   "outputs": [
    {
     "data": {
      "text/plain": [
       "[(18, 'a'),\n",
       " (21, 'h'),\n",
       " (29, 'j'),\n",
       " (32, 'l'),\n",
       " (35, 'k'),\n",
       " (42, 'y'),\n",
       " (56, 'w'),\n",
       " (60, 'l'),\n",
       " (63, 'p')]"
      ]
     },
     "execution_count": 110,
     "metadata": {},
     "output_type": "execute_result"
    }
   ],
   "source": [
    "#13\n",
    "lista_5 = [18,21,29,32,35,42,56,60,63,71,84,90,91,100]\n",
    "lista_6 = [\"a\", \"h\", \"j\", \"l\", \"k\",\"y\", \"w\", \"l\", \"p\",]\n",
    "aux = zip(lista_5,lista_6)\n",
    "list(aux)"
   ]
  },
  {
   "cell_type": "code",
   "execution_count": 111,
   "metadata": {},
   "outputs": [
    {
     "name": "stdout",
     "output_type": "stream",
     "text": [
      "[21, 35, 42, 56, 63, 84, 91]\n"
     ]
    }
   ],
   "source": [
    "#14\n",
    "lista_3 = [18,21,29,32,35,42,56,60,63,71,84,90,91,100]\n",
    "lista_4 =[]\n",
    "for i in lista_3:\n",
    "    if (i % 7 == 0):\n",
    "        lista_4.append(i)\n",
    "print(lista_4)"
   ]
  },
  {
   "cell_type": "code",
   "execution_count": 129,
   "metadata": {},
   "outputs": [
    {
     "name": "stdout",
     "output_type": "stream",
     "text": [
      "5\n"
     ]
    }
   ],
   "source": [
    "#15\n",
    "lista_6 = [[1,2,3,4],'rojo','verde',[True,False,False],['uno','dos','tres']]\n",
    "aux = len(lista_6)\n",
    "print(aux)"
   ]
  },
  {
   "cell_type": "code",
   "execution_count": 130,
   "metadata": {},
   "outputs": [
    {
     "name": "stdout",
     "output_type": "stream",
     "text": [
      "[[1, 2, 3, 4], ['r', 'o', 'j', 'o'], ['v', 'e', 'r', 'd', 'e'], [True, False, False], ['uno', 'dos', 'tres']]\n"
     ]
    }
   ],
   "source": [
    "#16\n",
    "lista_7 = [[1,2,3,4],'rojo','verde',[True,False,False],['uno','dos','tres']]\n",
    "cont = 0\n",
    "while cont < len(lista_7):\n",
    "    if type(lista_7[cont] != list):\n",
    "        lista_7[cont] = list(lista_7[cont])\n",
    "    cont += 1\n",
    "print(lista_7)   "
   ]
  }
 ],
 "metadata": {
  "kernelspec": {
   "display_name": "Python 3",
   "language": "python",
   "name": "python3"
  },
  "language_info": {
   "codemirror_mode": {
    "name": "ipython",
    "version": 3
   },
   "file_extension": ".py",
   "mimetype": "text/x-python",
   "name": "python",
   "nbconvert_exporter": "python",
   "pygments_lexer": "ipython3",
   "version": "3.10.4"
  },
  "orig_nbformat": 4,
  "vscode": {
   "interpreter": {
    "hash": "c63d8c7d738c2960218a10995aedf0a7f67a49a231e71037adf0440953cdb45b"
   }
  }
 },
 "nbformat": 4,
 "nbformat_minor": 2
}
