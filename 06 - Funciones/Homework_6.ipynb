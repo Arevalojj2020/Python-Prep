{
 "cells": [
  {
   "cell_type": "code",
   "execution_count": 1,
   "metadata": {},
   "outputs": [],
   "source": [
    "#1\n",
    "def primo(var_1):\n",
    "    primo = True\n",
    "    aux = 2\n",
    "    while aux < var_1:\n",
    "        if (var_1 % aux == 0):\n",
    "            primo = False\n",
    "            break\n",
    "        aux += 1\n",
    "    return(primo)"
   ]
  },
  {
   "cell_type": "code",
   "execution_count": 2,
   "metadata": {},
   "outputs": [
    {
     "data": {
      "text/plain": [
       "True"
      ]
     },
     "execution_count": 2,
     "metadata": {},
     "output_type": "execute_result"
    }
   ],
   "source": [
    "#1.1\n",
    "primo(11)"
   ]
  },
  {
   "cell_type": "code",
   "execution_count": 1,
   "metadata": {},
   "outputs": [],
   "source": [
    "#2\n",
    "def lista_primos(var_2):\n",
    "    primos = []\n",
    "    if (type(var_2) == list):\n",
    "        for i in list(var_2):\n",
    "            primo = True\n",
    "            aux = 2\n",
    "            while aux < i:\n",
    "                if (i % aux == 0):\n",
    "                    primo = False\n",
    "                    break\n",
    "                aux += 1\n",
    "            if primo:\n",
    "                primos.append(i)\n",
    "        print(primos)\n",
    "    else:\n",
    "        print(\"El parámetro debe ser una lista!\")"
   ]
  },
  {
   "cell_type": "code",
   "execution_count": 2,
   "metadata": {},
   "outputs": [
    {
     "name": "stdout",
     "output_type": "stream",
     "text": [
      "El parámetro debe ser una lista!\n"
     ]
    }
   ],
   "source": [
    "#2.1\n",
    "lista_primos(23)"
   ]
  },
  {
   "cell_type": "code",
   "execution_count": 14,
   "metadata": {},
   "outputs": [],
   "source": [
    "#3\n",
    "def mas_repetido(var_3):\n",
    "    contador = 0\n",
    "    numero = 0\n",
    "    if (type(var_3) == list):   \n",
    "        for i in var_3:\n",
    "            aux = var_3.count(i)\n",
    "            if (aux > 1):   \n",
    "                if aux > contador:\n",
    "                    contador = aux\n",
    "                    numero = var_3[i]\n",
    "            elif (aux == 1):   \n",
    "                if aux > contador:\n",
    "                    contador = aux\n",
    "                    numero = var_3[i - 1]\n",
    "        return(\"El número que más se repite es \" + str(numero) + \", \" + str(contador) + \" vez/veces.\")\n",
    "    else:\n",
    "        print(\"El parámetro debe ser una lista!\")\n"
   ]
  },
  {
   "cell_type": "code",
   "execution_count": 22,
   "metadata": {},
   "outputs": [
    {
     "data": {
      "text/plain": [
       "'El número que más se repite es 0, 0 vez/veces.'"
      ]
     },
     "execution_count": 22,
     "metadata": {},
     "output_type": "execute_result"
    }
   ],
   "source": [
    "#3.1\n",
    "mas_repetido([])"
   ]
  },
  {
   "cell_type": "code",
   "execution_count": 29,
   "metadata": {},
   "outputs": [],
   "source": [
    "#5\n",
    "def conversion_grados(valor, entrada, salida):\n",
    "    if entrada == \"celsius\":\n",
    "        if salida == \"farenheit\":\n",
    "            aux_1 = (valor * (9/5)) + 32\n",
    "            return aux_1\n",
    "        elif salida == \"kelvin\":\n",
    "            aux_2 = valor + 273.15\n",
    "            return aux_2\n",
    "        else:\n",
    "            print(\"Ingrese una salida correcta!\")\n",
    "    elif entrada == \"farenheit\":\n",
    "        if salida == \"celsius\":\n",
    "            aux_3 = (valor - 32) / (9/5)\n",
    "            return aux_3\n",
    "        elif salida == \"kelvin\":\n",
    "            aux_4 = ((valor - 32) / (9/5)) + 273.15\n",
    "            return aux_4\n",
    "        else:\n",
    "            print(\"Ingrese una salida correcta!\")\n",
    "    elif entrada == \"kelvin\":\n",
    "        if salida == \"celsius\":\n",
    "            aux_5 = valor - 273.15\n",
    "            return aux_5\n",
    "        elif salida == \"farenheit\":\n",
    "            aux_6 = ((valor - 273.15) * (9/5)) + 32\n",
    "            return aux_6\n",
    "        else:\n",
    "            print(\"Ingrese una salida correcta!\")\n",
    "    else:\n",
    "        print(\"Ingrese una entrada correcta!\")\n"
   ]
  },
  {
   "cell_type": "code",
   "execution_count": 34,
   "metadata": {},
   "outputs": [
    {
     "data": {
      "text/plain": [
       "55.400000000000006"
      ]
     },
     "execution_count": 34,
     "metadata": {},
     "output_type": "execute_result"
    }
   ],
   "source": [
    "#5.1\n",
    "conversion_grados(13,\"celsius\",\"farenheit\")"
   ]
  },
  {
   "cell_type": "code",
   "execution_count": 53,
   "metadata": {},
   "outputs": [],
   "source": [
    "#7\n",
    "def factorial(var_4):\n",
    "    if var_4 <= 0:\n",
    "        return 1\n",
    "    else:\n",
    "        factorial = 1\n",
    "        while var_4 > 0:\n",
    "            factorial = factorial * var_4\n",
    "            var_4 -= 1\n",
    "        return(factorial)"
   ]
  },
  {
   "cell_type": "code",
   "execution_count": 58,
   "metadata": {},
   "outputs": [
    {
     "data": {
      "text/plain": [
       "120"
      ]
     },
     "execution_count": 58,
     "metadata": {},
     "output_type": "execute_result"
    }
   ],
   "source": [
    "#7.1\n",
    "factorial(5)"
   ]
  }
 ],
 "metadata": {
  "kernelspec": {
   "display_name": "Python 3",
   "language": "python",
   "name": "python3"
  },
  "language_info": {
   "codemirror_mode": {
    "name": "ipython",
    "version": 3
   },
   "file_extension": ".py",
   "mimetype": "text/x-python",
   "name": "python",
   "nbconvert_exporter": "python",
   "pygments_lexer": "ipython3",
   "version": "3.10.4"
  },
  "orig_nbformat": 4,
  "vscode": {
   "interpreter": {
    "hash": "c63d8c7d738c2960218a10995aedf0a7f67a49a231e71037adf0440953cdb45b"
   }
  }
 },
 "nbformat": 4,
 "nbformat_minor": 2
}
