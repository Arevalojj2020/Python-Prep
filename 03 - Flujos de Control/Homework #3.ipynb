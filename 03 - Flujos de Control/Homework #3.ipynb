{
 "cells": [
  {
   "cell_type": "code",
   "execution_count": 5,
   "metadata": {},
   "outputs": [
    {
     "name": "stdout",
     "output_type": "stream",
     "text": [
      "Es igual a 0!\n"
     ]
    }
   ],
   "source": [
    "#1\n",
    "var_1 = 0\n",
    "if (var_1 < 0):\n",
    "    print(\"Es menor a 0!\")\n",
    "elif (var_1 > 0):\n",
    "    print(\"Es mayor a 0!\")\n",
    "else:\n",
    "    print(\"Es igual a 0!\")"
   ]
  },
  {
   "cell_type": "code",
   "execution_count": 8,
   "metadata": {},
   "outputs": [
    {
     "name": "stdout",
     "output_type": "stream",
     "text": [
      "Son del mismo tipo\n"
     ]
    }
   ],
   "source": [
    "#2\n",
    "var_2 = 55\n",
    "var_3 = 87\n",
    "if (type(var_2) == type(var_3)):\n",
    "    print(\"Son del mismo tipo\")\n",
    "else:\n",
    "    print(\"Son de distinto tipo\")"
   ]
  },
  {
   "cell_type": "code",
   "execution_count": 15,
   "metadata": {},
   "outputs": [
    {
     "name": "stdout",
     "output_type": "stream",
     "text": [
      "1 = Es impar!\n",
      "2 = Es par!\n",
      "3 = Es impar!\n",
      "4 = Es par!\n",
      "5 = Es impar!\n",
      "6 = Es par!\n",
      "7 = Es impar!\n",
      "8 = Es par!\n",
      "9 = Es impar!\n",
      "10 = Es par!\n",
      "11 = Es impar!\n",
      "12 = Es par!\n",
      "13 = Es impar!\n",
      "14 = Es par!\n",
      "15 = Es impar!\n",
      "16 = Es par!\n",
      "17 = Es impar!\n",
      "18 = Es par!\n",
      "19 = Es impar!\n",
      "20 = Es par!\n"
     ]
    }
   ],
   "source": [
    "#3\n",
    "for n in range(1,21):\n",
    "    if ((n % 2) == 0):\n",
    "        print(str(n) + \" = Es par!\")\n",
    "    else:\n",
    "        print(str(n) + \" = Es impar!\") "
   ]
  },
  {
   "cell_type": "code",
   "execution_count": 17,
   "metadata": {},
   "outputs": [
    {
     "name": "stdout",
     "output_type": "stream",
     "text": [
      "0\n",
      "1\n",
      "8\n",
      "27\n",
      "64\n",
      "125\n"
     ]
    }
   ],
   "source": [
    "#4\n",
    "for n in range (0,6):\n",
    "    n = n ** 3\n",
    "    print(n)"
   ]
  },
  {
   "cell_type": "code",
   "execution_count": 23,
   "metadata": {},
   "outputs": [
    {
     "name": "stdout",
     "output_type": "stream",
     "text": [
      "0\n",
      "1\n",
      "2\n",
      "3\n",
      "4\n",
      "5\n",
      "6\n",
      "7\n",
      "8\n",
      "9\n"
     ]
    }
   ],
   "source": [
    "#5\n",
    "var_4 = 10\n",
    "for n in range(var_4):\n",
    "    print(n)"
   ]
  },
  {
   "cell_type": "code",
   "execution_count": 27,
   "metadata": {},
   "outputs": [
    {
     "name": "stdout",
     "output_type": "stream",
     "text": [
      "6\n",
      "3\n",
      "1\n",
      "0\n"
     ]
    }
   ],
   "source": [
    "#6\n",
    "var_5 = 13\n",
    "while (var_5 > 0):\n",
    "    var_5 = var_5 // 2\n",
    "    print(var_5)"
   ]
  },
  {
   "cell_type": "code",
   "execution_count": 30,
   "metadata": {},
   "outputs": [
    {
     "name": "stdout",
     "output_type": "stream",
     "text": [
      "0\n",
      "1\n",
      "2\n",
      "3\n",
      "4\n",
      "5\n",
      "6\n",
      "7\n",
      "8\n",
      "9\n",
      "10\n",
      "11\n",
      "12\n",
      "13\n",
      "14\n",
      "15\n",
      "16\n",
      "17\n",
      "18\n",
      "19\n",
      "20\n"
     ]
    }
   ],
   "source": [
    "#7\n",
    "while True:\n",
    "    for n in range(0,21):\n",
    "        print(n)\n",
    "    break"
   ]
  },
  {
   "cell_type": "code",
   "execution_count": 38,
   "metadata": {},
   "outputs": [
    {
     "name": "stdout",
     "output_type": "stream",
     "text": [
      "Hola\n",
      "Hola\n",
      "Hola\n",
      "Hola\n",
      "Hola\n",
      "Hola\n",
      "Hola\n",
      "Hola\n",
      "Hola\n",
      "Hola\n"
     ]
    }
   ],
   "source": [
    "#8\n",
    "for n in range(0,11):\n",
    "    while(n < 4):\n",
    "        print(\"Hola\")\n",
    "        n += 1"
   ]
  },
  {
   "cell_type": "code",
   "execution_count": 56,
   "metadata": {},
   "outputs": [
    {
     "name": "stdout",
     "output_type": "stream",
     "text": [
      "2\n",
      "3\n",
      "5\n",
      "7\n",
      "11\n",
      "13\n",
      "17\n",
      "19\n",
      "23\n",
      "29\n"
     ]
    }
   ],
   "source": [
    "#9\n",
    "n = 1\n",
    "\n",
    "while n <= 30:\n",
    "    cont = 1\n",
    "    x = 0\n",
    "    while cont <= n:\n",
    "        if n % cont == 0:\n",
    "            x += 1\n",
    "        cont += 1\n",
    "    if x == 2:\n",
    "        print(n)\n",
    "    n += 1"
   ]
  },
  {
   "cell_type": "code",
   "execution_count": 64,
   "metadata": {},
   "outputs": [
    {
     "name": "stdout",
     "output_type": "stream",
     "text": [
      "2\n",
      "3\n",
      "5\n",
      "7\n",
      "11\n",
      "13\n",
      "17\n",
      "19\n",
      "23\n",
      "29\n"
     ]
    }
   ],
   "source": [
    "#10\n",
    "n = 1\n",
    "\n",
    "while n <= 30:\n",
    "    cont = 1\n",
    "    x = 0\n",
    "    while cont <= n:\n",
    "        if n % cont == 0:\n",
    "            x += 1\n",
    "        cont += 1\n",
    "    if x == 2:\n",
    "        print(n)\n",
    "    n += 1"
   ]
  },
  {
   "cell_type": "code",
   "execution_count": null,
   "metadata": {},
   "outputs": [],
   "source": [
    "#11\n",
    "#Se sabe cuanto se optimizó dependidendo del tiempo que tarde en ejecutar el programa."
   ]
  },
  {
   "cell_type": "code",
   "execution_count": null,
   "metadata": {},
   "outputs": [],
   "source": [
    "#12"
   ]
  },
  {
   "cell_type": "code",
   "execution_count": 73,
   "metadata": {},
   "outputs": [
    {
     "name": "stdout",
     "output_type": "stream",
     "text": [
      "108\n",
      "120\n",
      "132\n",
      "144\n",
      "156\n",
      "168\n",
      "180\n",
      "192\n",
      "204\n",
      "216\n",
      "228\n",
      "240\n",
      "252\n",
      "264\n",
      "276\n",
      "288\n",
      "300\n"
     ]
    }
   ],
   "source": [
    "#13\n",
    "n = 100\n",
    "\n",
    "while n <= 300:\n",
    "    if n % 12 != 0:\n",
    "        n += 1\n",
    "        continue\n",
    "    else: \n",
    "        print(n) \n",
    "    n += 1"
   ]
  },
  {
   "cell_type": "code",
   "execution_count": 76,
   "metadata": {},
   "outputs": [],
   "source": [
    "#14\n"
   ]
  },
  {
   "cell_type": "code",
   "execution_count": 99,
   "metadata": {},
   "outputs": [
    {
     "name": "stdout",
     "output_type": "stream",
     "text": [
      "102\n"
     ]
    }
   ],
   "source": [
    "#15\n",
    "n = 100\n",
    "\n",
    "while n <= 300:\n",
    "    if n % 3 == 0:\n",
    "        if n % 6 == 0:\n",
    "            print(n)\n",
    "            break  \n",
    "    n += 1"
   ]
  }
 ],
 "metadata": {
  "kernelspec": {
   "display_name": "Python 3",
   "language": "python",
   "name": "python3"
  },
  "language_info": {
   "codemirror_mode": {
    "name": "ipython",
    "version": 3
   },
   "file_extension": ".py",
   "mimetype": "text/x-python",
   "name": "python",
   "nbconvert_exporter": "python",
   "pygments_lexer": "ipython3",
   "version": "3.10.4"
  },
  "orig_nbformat": 4,
  "vscode": {
   "interpreter": {
    "hash": "c63d8c7d738c2960218a10995aedf0a7f67a49a231e71037adf0440953cdb45b"
   }
  }
 },
 "nbformat": 4,
 "nbformat_minor": 2
}
